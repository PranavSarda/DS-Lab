{
 "cells": [
  {
   "cell_type": "markdown",
   "metadata": {},
   "source": [
    "<b><font size=\"10\"><center>Heart Failure Prediction</center></font></b>"
   ]
  },
  {
   "cell_type": "code",
   "execution_count": null,
   "metadata": {},
   "outputs": [],
   "source": [
    "import numpy as np\n",
    "import pandas as pd\n",
    "import matplotlib.pyplot as plt\n",
    "import seaborn as sns\n"
   ]
  },
  {
   "cell_type": "code",
   "execution_count": null,
   "metadata": {},
   "outputs": [],
   "source": [
    "heartdf = pd.read_csv('heart.csv')"
   ]
  },
  {
   "cell_type": "markdown",
   "metadata": {},
   "source": [
    "<font size=\"3\">Structure of our data</font>"
   ]
  },
  {
   "cell_type": "code",
   "execution_count": null,
   "metadata": {},
   "outputs": [],
   "source": [
    "heartdf.head()"
   ]
  },
  {
   "cell_type": "code",
   "execution_count": null,
   "metadata": {},
   "outputs": [],
   "source": [
    "heartdf.describe()"
   ]
  },
  {
   "cell_type": "code",
   "execution_count": null,
   "metadata": {},
   "outputs": [],
   "source": [
    "heartdf.info()"
   ]
  },
  {
   "cell_type": "markdown",
   "metadata": {},
   "source": [
    "***"
   ]
  },
  {
   "cell_type": "markdown",
   "metadata": {},
   "source": [
    "# Data Visualizations"
   ]
  },
  {
   "cell_type": "markdown",
   "metadata": {},
   "source": [
    "<b><font size=\"4\">1. Correlation Matrix</font></b>"
   ]
  },
  {
   "cell_type": "code",
   "execution_count": null,
   "metadata": {},
   "outputs": [],
   "source": [
    "fig = plt.figure(figsize=[16, 9])\n",
    "plt.style.use('seaborn-darkgrid')\n",
    "sns.heatmap(heartdf.corr(), annot=True, mask=np.triu(heartdf.corr()), cmap='coolwarm')"
   ]
  },
  {
   "cell_type": "code",
   "execution_count": null,
   "metadata": {},
   "outputs": [],
   "source": [
    "##By this Heat map - we have the correlation values between columns.\n",
    "\n",
    "##We don't have any redundant columns,ie.we dont have highly correlated columns, which can be removed.\n",
    "##All the columns are lying between low positive correlation to low negative correlation.\n",
    "##Most of the columns have negative correlation(column value increase will decrease the target value) with the target variable.\n"
   ]
  },
  {
   "cell_type": "markdown",
   "metadata": {},
   "source": [
    "<b><font size=\"4\">2. Box Whisker Plot</font></b>"
   ]
  },
  {
   "cell_type": "code",
   "execution_count": null,
   "metadata": {},
   "outputs": [],
   "source": [
    "#BOX WHISKER PLOT-\n",
    "#This is for looking outliers in the columns.\n",
    "#This gives a five number summary[min,25,median,75,max] among the data values in a column.\n",
    "#used to compare available data among two to three features.\n",
    "\n",
    "fig,ax=plt.subplots(figsize=(16,12))\n",
    "plt.subplot(221)\n",
    "b1=sns.boxplot(x=\"sex\",y=\"age\",hue=\"target\",data=heartdf,palette=\"BuGn\")\n",
    "b1.set_title(\"0: female, 1:male | 0:NO Heart Disease,1:Heart Disease\")\n",
    "\n",
    "\n",
    "plt.subplot(222)\n",
    "b2=sns.boxplot(x=\"sex\",y=\"chol\",hue=\"target\",data=heartdf,palette=\"YlGn\")\n",
    "b2.set_title(\"0: female, 1:male | 0:NO Heart Disease,1:Heart Disease\")\n",
    "\n",
    "\n",
    "plt.subplot(223)\n",
    "b3=sns.boxplot(x=\"cp\",y=\"age\",hue=\"sex\",data=heartdf,palette=\"PRGn\")\n",
    "b3.set_title(\"0: female, 1:male | chest pain type 0,1,2,3\")\n",
    "\n",
    "\n",
    "plt.subplot(224)\n",
    "b4=sns.boxplot(x=\"exang\",y=\"thalach\",hue=\"target\",data=heartdf,palette=\"BuGn\")\n",
    "b4.set_title(\"0: No Angina, 1:Angina | 0:NO Heart Disease,1:Heart Disease\")\n"
   ]
  },
  {
   "cell_type": "markdown",
   "metadata": {},
   "source": [
    "<b><font size=\"6\">3. Count Plot</font></b>"
   ]
  },
  {
   "cell_type": "code",
   "execution_count": null,
   "metadata": {},
   "outputs": [],
   "source": [
    "#COUNT PLOT-\n",
    "#This is used to show the counts of the variables\n",
    "#This can be used to depict 2 -3 variables.\n",
    "\n",
    "fig,ax=plt.subplots(figsize=(19,10))\n",
    "\n",
    "plt.subplot(241)\n",
    "s1=sns.countplot(x='target',data=heartdf,hue='sex',palette='BuPu',linewidth=3)\n",
    "s1.set_title('0: femle, 1:male | 0:NO Hrt Dis,1:Hrt Dis')\n",
    "\n",
    "plt.subplot(242)\n",
    "s2=sns.countplot(x='cp',data=heartdf,hue='target',palette='BuPu',linewidth=3)\n",
    "s2.set_title('Chest pain type')\n",
    "\n",
    "plt.subplot(243)\n",
    "s3=sns.countplot(x='thal',data=heartdf,hue='target',palette='BuPu',linewidth=3)\n",
    "s3.set_title('Thal')\n",
    "\n",
    "\n",
    "plt.subplot(244)\n",
    "s4=sns.countplot(x='slope',data=heartdf,hue='target',palette='BuPu',linewidth=3)\n",
    "s4.set_title('slope of the peak exercise')\n",
    "\n",
    "plt.subplot(245)\n",
    "s5=sns.countplot(x='sex',data=heartdf,hue='target',palette='BuPu',linewidth=3)\n",
    "s5.set_title('Sex 0:Female,1:Male')\n",
    "\n",
    "plt.subplot(246)\n",
    "s6=sns.countplot(x='fbs',data=heartdf,hue='target',palette=\"BuPu\",linewidth=3)\n",
    "s6.set_title('Fasting blood sugar>120mg/dl')\n",
    "\n",
    "plt.subplot(247)\n",
    "s7=sns.countplot(x='ca',data=heartdf,hue='target',palette='BuPu',linewidth=3)\n",
    "s7.set_title('Number of major vessels coloured')\n",
    "\n",
    "plt.subplot(248)\n",
    "s8=sns.countplot(x='restecg',data=heartdf,hue='target',palette='BuPu',linewidth=3)\n",
    "s8.set_title('Resting electrocardiographic results ')"
   ]
  },
  {
   "cell_type": "markdown",
   "metadata": {},
   "source": [
    "<b><font size=\"4\">4. Bar Plot</font></b>"
   ]
  },
  {
   "cell_type": "code",
   "execution_count": null,
   "metadata": {},
   "outputs": [],
   "source": [
    "#BAR PLOT-\n",
    "#This helps in finding the relationship between categorical and discrete variables.\n",
    "#This also can be used to know relation between two continuos variable with binary data\n",
    "\n",
    "fig,ax=plt.subplots(figsize=(33,30))\n",
    "plt.subplot(231)\n",
    "bx_1 = sns.barplot(x=\"trestbps\", y=\"restecg\", hue=\"target\", data=heartdf,palette=\"PuBu\")\n",
    "bx_1.set_title(\"Target 0:no dis,1:dis\")\n",
    "\n",
    "plt.subplot(232)\n",
    "bx_2 = sns.barplot(x=\"trestbps\", y=\"restecg\", hue=\"sex\", data=heartdf,palette=\"PuBu\")\n",
    "bx_2.set_title(\"sex 0:female,1:male\")\n",
    "\n",
    "plt.subplot(233)\n",
    "bx_3 = sns.barplot(x=\"age\", y=\"chol\", hue=\"sex\", data=heartdf,palette=\"PuBu\")\n",
    "bx_3.set_title(\"sex 0:female,1:male\")\n",
    "\n",
    "plt.subplot(234)\n",
    "bx_4 = sns.barplot(x=\"oldpeak\", y=\"thal\", hue=\"target\", data=heartdf,palette=\"PuBu\")\n",
    "bx_4.set_title(\"Target 0:no dis,1:dis\")\n",
    "\n",
    "plt.subplot(235)\n",
    "bx_5 = sns.barplot(x=\"oldpeak\", y=\"restecg\", hue=\"target\", data=heartdf,palette=\"PuBu\")\n",
    "bx_5.set_title(\"Target 0:no dis,1:dis\")\n",
    "\n",
    "plt.subplot(616)\n",
    "bx_6 = sns.barplot(x=\"oldpeak\", y=\"age\", hue=\"exang\", data=heartdf,palette=\"PuBu\")\n",
    "bx_6.set_title(\"Exang 0:No Angina,1:Yes Angina\")"
   ]
  },
  {
   "cell_type": "markdown",
   "metadata": {},
   "source": [
    "<b><font size=\"4\">5. Scatter Plot</font></b>"
   ]
  },
  {
   "cell_type": "code",
   "execution_count": null,
   "metadata": {},
   "outputs": [],
   "source": [
    "#SCATTER PLOT\n",
    "#It is used to find the relationship between 2 variables.\n",
    "#It helps to find outliers and correaltion between features.\n",
    "fig,ax=plt.subplots(figsize=(23,16))\n",
    "plt.subplot(231)\n",
    "sp_1 = sns.scatterplot(x=\"age\", y=\"thalach\",hue=\"target\",data=heartdf,palette=\"cool\")\n",
    "sp_1.set_title(\"Target 0:no dis,1:dis\")\n",
    "plt.subplot(232)\n",
    "sp_2 = sns.scatterplot(x=\"chol\", y=\"thalach\",hue=\"target\",data=heartdf,palette=\"cool\")\n",
    "sp_2.set_title(\"Target 0:no dis,1:dis\")\n",
    "plt.subplot(233)\n",
    "sp_3 = sns.scatterplot(x=\"chol\", y=\"thalach\",hue=\"cp\",data=heartdf,palette=\"rainbow\")\n",
    "sp_3.set_title(\"Target 0:no dis,1:dis\")\n",
    "plt.subplot(234)\n",
    "sp_3 = sns.scatterplot(x=\"oldpeak\", y=\"thalach\",hue=\"target\",data=heartdf,palette=\"spring\")\n",
    "sp_3.set_title(\"Target 0:no dis,1:dis\")\n",
    "plt.subplot(235)\n",
    "sp_3 = sns.scatterplot(x=\"ca\", y=\"trestbps\",hue=\"sex\",data=heartdf,palette=\"cool\")\n",
    "sp_3.set_title(\"Target 0:no dis,1:dis\")\n",
    "plt.xticks([0,1, 2, 3, 4])\n",
    "plt.subplot(236)understand yo\n",
    "sp_3 = sns.scatterplot(x=\"ca\", y=\"trestbps\",hue=\"target\",data=heartdf,palette=\"cool\")\n",
    "sp_3.set_title(\"Target 0:no dis,1:dis\")\n",
    "plt.xticks([0,1, 2, 3, 4])"
   ]
  },
  {
   "cell_type": "markdown",
   "metadata": {},
   "source": [
    "<b><font size=\"4\">6. Pair Plot</font></b>"
   ]
  },
  {
   "cell_type": "code",
   "execution_count": null,
   "metadata": {},
   "outputs": [],
   "source": [
    "#Pair Plot\n",
    "#This can be drawn to find the relationship of multiple features with respect to each other.\n",
    "sns.pairplot(heartdf,hue=\"target\",vars=[\"age\",\"chol\",\"thalach\",\"trestbps\"],palette=\"husl\")"
   ]
  },
  {
   "cell_type": "code",
   "execution_count": null,
   "metadata": {},
   "outputs": [],
   "source": [
    "sns.pairplot(heartdf,hue=\"cp\",vars=[\"age\",\"chol\",\"thalach\",\"trestbps\"])"
   ]
  },
  {
   "cell_type": "code",
   "execution_count": null,
   "metadata": {},
   "outputs": [],
   "source": [
    "sns.pairplot(heartdf,hue=\"sex\",vars=[\"age\",\"chol\",\"thalach\",\"trestbps\"])"
   ]
  },
  {
   "cell_type": "code",
   "execution_count": null,
   "metadata": {},
   "outputs": [],
   "source": [
    "sns.pairplot(heartdf,hue=\"target\",vars=[\"age\",\"thalach\",\"restecg\",\"trestbps\"],palette=\"husl\")"
   ]
  },
  {
   "cell_type": "markdown",
   "metadata": {},
   "source": [
    "<b><font size=\"4\">7. Joint Plot</font></b>"
   ]
  },
  {
   "cell_type": "code",
   "execution_count": null,
   "metadata": {},
   "outputs": [],
   "source": [
    "#JOINTPLOT\n",
    "#This is drawn between two features."
   ]
  },
  {
   "cell_type": "code",
   "execution_count": null,
   "metadata": {},
   "outputs": [],
   "source": [
    "sns.set(style=\"white\")\n",
    "sns.jointplot(x=\"chol\",y=\"age\",kind=\"kde\",color=\"g\",data=heartdf)\n",
    "\n",
    "\n",
    "sns.set(style=\"white\")\n",
    "sns.jointplot(x=\"thalach\",y=\"cp\",kind=\"hex\",color=\"g\",data=heartdf)\n",
    "\n",
    "sns.set(style=\"white\")\n",
    "sns.jointplot(x=\"trestbps\",y=\"ca\",kind=\"hex\",color=\"g\",data=heartdf)\n",
    "\n",
    "\n",
    "sns.set(style=\"white\")\n",
    "sns.jointplot(x=\"oldpeak\",y=\"thal\",kind=\"kde\",color=\"g\",data=heartdf)\n",
    "\n",
    "\n",
    "sns.set(style=\"white\")\n",
    "sns.jointplot(x=\"ca\",y=\"thal\",kind=\"kde\",color=\"g\",data=heartdf)\n",
    "\n",
    "\n",
    "sns.set(style=\"white\")\n",
    "sns.jointplot(x=\"ca\",y=\"cp\",kind=\"kde\",color=\"g\",data=heartdf)"
   ]
  },
  {
   "cell_type": "markdown",
   "metadata": {},
   "source": [
    "<b><font size=\"4\">8. Cat Plot</font></b>"
   ]
  },
  {
   "cell_type": "code",
   "execution_count": null,
   "metadata": {},
   "outputs": [],
   "source": [
    "#CAT PLOT\n",
    "#This plot combines facetgrid and swarmplot."
   ]
  },
  {
   "cell_type": "code",
   "execution_count": null,
   "metadata": {},
   "outputs": [],
   "source": [
    "sns.catplot(x=\"cp\", y=\"age\",hue=\"target\", col=\"sex\",data=heartdf, kind=\"swarm\",height=5.7, aspect=.5)\n",
    "sns.catplot(x=\"ca\", y=\"age\",hue=\"target\", col=\"sex\",data=heartdf, kind=\"swarm\",height=5.5, aspect=.5)"
   ]
  }
 ],
 "metadata": {
  "kernelspec": {
   "display_name": "Python 3",
   "language": "python",
   "name": "python3"
  },
  "language_info": {
   "codemirror_mode": {
    "name": "ipython",
    "version": 3
   },
   "file_extension": ".py",
   "mimetype": "text/x-python",
   "name": "python",
   "nbconvert_exporter": "python",
   "pygments_lexer": "ipython3",
   "version": "3.8.5"
  }
 },
 "nbformat": 4,
 "nbformat_minor": 4
}